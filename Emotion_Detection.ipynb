{
 "cells": [
  {
   "cell_type": "code",
   "execution_count": 1,
   "metadata": {
    "colab": {
     "base_uri": "https://localhost:8080/"
    },
    "id": "iGMZxCkXXdKn",
    "outputId": "3fff6ce8-d92b-48e2-9520-19b113ee0596"
   },
   "outputs": [
    {
     "name": "stderr",
     "output_type": "stream",
     "text": [
      "'wget' is not recognized as an internal or external command,\n",
      "operable program or batch file.\n"
     ]
    }
   ],
   "source": [
    "!wget https://www.dropbox.com/s/nilt43hyl1dx82k/dataset.zip?dl=0"
   ]
  },
  {
   "cell_type": "code",
   "execution_count": 2,
   "metadata": {
    "colab": {
     "base_uri": "https://localhost:8080/"
    },
    "id": "4V-kwycpXtDJ",
    "outputId": "cadac7c5-947d-4a50-b2d6-eed25ffd6217"
   },
   "outputs": [
    {
     "name": "stderr",
     "output_type": "stream",
     "text": [
      "'unzip' is not recognized as an internal or external command,\n",
      "operable program or batch file.\n"
     ]
    }
   ],
   "source": [
    "!unzip dataset.zip?dl=0"
   ]
  },
  {
   "cell_type": "code",
   "execution_count": 4,
   "metadata": {
    "id": "6dcwbXc8Xzww"
   },
   "outputs": [
    {
     "ename": "ImportError",
     "evalue": "cannot import name 'img_to_array' from 'keras.preprocessing.image' (C:\\Users\\vijju\\anaconda3\\lib\\site-packages\\keras\\preprocessing\\image.py)",
     "output_type": "error",
     "traceback": [
      "\u001b[1;31m---------------------------------------------------------------------------\u001b[0m",
      "\u001b[1;31mImportError\u001b[0m                               Traceback (most recent call last)",
      "\u001b[1;32m~\\AppData\\Local\\Temp\\ipykernel_5672\\1495411786.py\u001b[0m in \u001b[0;36m<module>\u001b[1;34m\u001b[0m\n\u001b[0;32m      5\u001b[0m \u001b[1;32mfrom\u001b[0m \u001b[0mkeras\u001b[0m\u001b[1;33m.\u001b[0m\u001b[0mlayers\u001b[0m \u001b[1;32mimport\u001b[0m \u001b[0mFlatten\u001b[0m\u001b[1;33m,\u001b[0m \u001b[0mDense\u001b[0m\u001b[1;33m\u001b[0m\u001b[1;33m\u001b[0m\u001b[0m\n\u001b[0;32m      6\u001b[0m \u001b[1;32mfrom\u001b[0m \u001b[0mkeras\u001b[0m\u001b[1;33m.\u001b[0m\u001b[0mmodels\u001b[0m \u001b[1;32mimport\u001b[0m \u001b[0mModel\u001b[0m\u001b[1;33m\u001b[0m\u001b[1;33m\u001b[0m\u001b[0m\n\u001b[1;32m----> 7\u001b[1;33m \u001b[1;32mfrom\u001b[0m \u001b[0mkeras\u001b[0m\u001b[1;33m.\u001b[0m\u001b[0mpreprocessing\u001b[0m\u001b[1;33m.\u001b[0m\u001b[0mimage\u001b[0m \u001b[1;32mimport\u001b[0m \u001b[0mImageDataGenerator\u001b[0m \u001b[1;33m,\u001b[0m \u001b[0mimg_to_array\u001b[0m\u001b[1;33m,\u001b[0m \u001b[0mload_img\u001b[0m\u001b[1;33m\u001b[0m\u001b[1;33m\u001b[0m\u001b[0m\n\u001b[0m\u001b[0;32m      8\u001b[0m \u001b[1;32mfrom\u001b[0m \u001b[0mkeras\u001b[0m\u001b[1;33m.\u001b[0m\u001b[0mapplications\u001b[0m\u001b[1;33m.\u001b[0m\u001b[0mmobilenet\u001b[0m \u001b[1;32mimport\u001b[0m \u001b[0mMobileNet\u001b[0m\u001b[1;33m,\u001b[0m \u001b[0mpreprocess_input\u001b[0m\u001b[1;33m\u001b[0m\u001b[1;33m\u001b[0m\u001b[0m\n\u001b[0;32m      9\u001b[0m \u001b[1;32mfrom\u001b[0m \u001b[0mkeras\u001b[0m\u001b[1;33m.\u001b[0m\u001b[0mlosses\u001b[0m \u001b[1;32mimport\u001b[0m \u001b[0mcategorical_crossentropy\u001b[0m\u001b[1;33m\u001b[0m\u001b[1;33m\u001b[0m\u001b[0m\n",
      "\u001b[1;31mImportError\u001b[0m: cannot import name 'img_to_array' from 'keras.preprocessing.image' (C:\\Users\\vijju\\anaconda3\\lib\\site-packages\\keras\\preprocessing\\image.py)"
     ]
    }
   ],
   "source": [
    "import numpy as np\n",
    "import pandas as pd\n",
    "import matplotlib.pyplot as plt\n",
    "\n",
    "from keras.layers import Flatten, Dense\n",
    "from keras.models import Model\n",
    "from keras.preprocessing.image import ImageDataGenerator , img_to_array, load_img\n",
    "from keras.applications.mobilenet import MobileNet, preprocess_input \n",
    "from keras.losses import categorical_crossentropy"
   ]
  },
  {
   "cell_type": "markdown",
   "metadata": {
    "id": "qQRxQ8qNbvE0"
   },
   "source": [
    "#  Building our Model To train the data "
   ]
  },
  {
   "cell_type": "code",
   "execution_count": 5,
   "metadata": {
    "colab": {
     "base_uri": "https://localhost:8080/"
    },
    "id": "7HCUQigdYELf",
    "outputId": "626e366c-2800-4311-aaa4-77a63ff6b57c"
   },
   "outputs": [
    {
     "ename": "NameError",
     "evalue": "name 'MobileNet' is not defined",
     "output_type": "error",
     "traceback": [
      "\u001b[1;31m---------------------------------------------------------------------------\u001b[0m",
      "\u001b[1;31mNameError\u001b[0m                                 Traceback (most recent call last)",
      "\u001b[1;32m~\\AppData\\Local\\Temp\\ipykernel_5672\\1571189869.py\u001b[0m in \u001b[0;36m<module>\u001b[1;34m\u001b[0m\n\u001b[0;32m      1\u001b[0m \u001b[1;31m# Working with pre trained model\u001b[0m\u001b[1;33m\u001b[0m\u001b[1;33m\u001b[0m\u001b[0m\n\u001b[0;32m      2\u001b[0m \u001b[1;33m\u001b[0m\u001b[0m\n\u001b[1;32m----> 3\u001b[1;33m \u001b[0mbase_model\u001b[0m \u001b[1;33m=\u001b[0m \u001b[0mMobileNet\u001b[0m\u001b[1;33m(\u001b[0m \u001b[0minput_shape\u001b[0m\u001b[1;33m=\u001b[0m\u001b[1;33m(\u001b[0m\u001b[1;36m224\u001b[0m\u001b[1;33m,\u001b[0m\u001b[1;36m224\u001b[0m\u001b[1;33m,\u001b[0m\u001b[1;36m3\u001b[0m\u001b[1;33m)\u001b[0m\u001b[1;33m,\u001b[0m \u001b[0minclude_top\u001b[0m\u001b[1;33m=\u001b[0m \u001b[1;32mFalse\u001b[0m \u001b[1;33m)\u001b[0m\u001b[1;33m\u001b[0m\u001b[1;33m\u001b[0m\u001b[0m\n\u001b[0m\u001b[0;32m      4\u001b[0m \u001b[1;33m\u001b[0m\u001b[0m\n\u001b[0;32m      5\u001b[0m \u001b[1;32mfor\u001b[0m \u001b[0mlayer\u001b[0m \u001b[1;32min\u001b[0m \u001b[0mbase_model\u001b[0m\u001b[1;33m.\u001b[0m\u001b[0mlayers\u001b[0m\u001b[1;33m:\u001b[0m\u001b[1;33m\u001b[0m\u001b[1;33m\u001b[0m\u001b[0m\n",
      "\u001b[1;31mNameError\u001b[0m: name 'MobileNet' is not defined"
     ]
    }
   ],
   "source": [
    "# Working with pre trained model \n",
    "\n",
    "base_model = MobileNet( input_shape=(224,224,3), include_top= False )\n",
    "\n",
    "for layer in base_model.layers:\n",
    "  layer.trainable = False\n",
    "\n",
    "\n",
    "x = Flatten()(base_model.output)\n",
    "x = Dense(units=7 , activation='softmax' )(x)\n",
    "\n",
    "# creating our model.\n",
    "model = Model(base_model.input, x)"
   ]
  },
  {
   "cell_type": "code",
   "execution_count": 5,
   "metadata": {
    "id": "FN3kEpAeZUGj"
   },
   "outputs": [],
   "source": [
    "model.compile(optimizer='adam', loss= categorical_crossentropy , metrics=['accuracy']  )"
   ]
  },
  {
   "cell_type": "markdown",
   "metadata": {
    "id": "z6kh9_hjbs47"
   },
   "source": [
    "# Preparing our data using data generator"
   ]
  },
  {
   "cell_type": "code",
   "execution_count": 6,
   "metadata": {
    "colab": {
     "base_uri": "https://localhost:8080/"
    },
    "id": "fpxBuUAlbmh8",
    "outputId": "82402687-0570-428d-af78-bdaad50444d9"
   },
   "outputs": [
    {
     "name": "stdout",
     "output_type": "stream",
     "text": [
      "Found 28709 images belonging to 7 classes.\n"
     ]
    },
    {
     "data": {
      "text/plain": [
       "{'angry': 0,\n",
       " 'disgust': 1,\n",
       " 'fear': 2,\n",
       " 'happy': 3,\n",
       " 'neutral': 4,\n",
       " 'sad': 5,\n",
       " 'surprise': 6}"
      ]
     },
     "execution_count": 6,
     "metadata": {},
     "output_type": "execute_result"
    }
   ],
   "source": [
    "train_datagen = ImageDataGenerator(\n",
    "     zoom_range = 0.2, \n",
    "     shear_range = 0.2, \n",
    "     horizontal_flip=True, \n",
    "     rescale = 1./255\n",
    ")\n",
    "\n",
    "train_data = train_datagen.flow_from_directory(directory= \"/content/train\", \n",
    "                                               target_size=(224,224), \n",
    "                                               batch_size=32,\n",
    "                                  )\n",
    "\n",
    "\n",
    "train_data.class_indices"
   ]
  },
  {
   "cell_type": "code",
   "execution_count": 7,
   "metadata": {
    "colab": {
     "base_uri": "https://localhost:8080/"
    },
    "id": "0x-TwUhocaHn",
    "outputId": "70922d05-e1c1-4eea-9fa9-631bca5dab53"
   },
   "outputs": [
    {
     "name": "stdout",
     "output_type": "stream",
     "text": [
      "Found 7178 images belonging to 7 classes.\n"
     ]
    }
   ],
   "source": [
    "val_datagen = ImageDataGenerator(rescale = 1./255 )\n",
    "\n",
    "val_data = val_datagen.flow_from_directory(directory= \"/content/test\", \n",
    "                                           target_size=(224,224), \n",
    "                                           batch_size=32,\n",
    "                                  )"
   ]
  },
  {
   "cell_type": "markdown",
   "metadata": {
    "id": "WNDgYni5c8Qk"
   },
   "source": [
    "# visualizaing the data that is fed to train data gen"
   ]
  },
  {
   "cell_type": "code",
   "execution_count": 6,
   "metadata": {
    "colab": {
     "base_uri": "https://localhost:8080/",
     "height": 1000
    },
    "id": "5tVIpYKDc2a_",
    "outputId": "c76e7b16-1b3b-4afb-c539-6bf14de8d8c5"
   },
   "outputs": [
    {
     "ename": "NameError",
     "evalue": "name 'train_data' is not defined",
     "output_type": "error",
     "traceback": [
      "\u001b[1;31m---------------------------------------------------------------------------\u001b[0m",
      "\u001b[1;31mNameError\u001b[0m                                 Traceback (most recent call last)",
      "\u001b[1;32m~\\AppData\\Local\\Temp\\ipykernel_5672\\1587298598.py\u001b[0m in \u001b[0;36m<module>\u001b[1;34m\u001b[0m\n\u001b[0;32m      1\u001b[0m \u001b[1;31m# to visualize the images in the traing data denerator\u001b[0m\u001b[1;33m\u001b[0m\u001b[1;33m\u001b[0m\u001b[0m\n\u001b[0;32m      2\u001b[0m \u001b[1;33m\u001b[0m\u001b[0m\n\u001b[1;32m----> 3\u001b[1;33m \u001b[0mt_img\u001b[0m \u001b[1;33m,\u001b[0m \u001b[0mlabel\u001b[0m \u001b[1;33m=\u001b[0m \u001b[0mtrain_data\u001b[0m\u001b[1;33m.\u001b[0m\u001b[0mnext\u001b[0m\u001b[1;33m(\u001b[0m\u001b[1;33m)\u001b[0m\u001b[1;33m\u001b[0m\u001b[1;33m\u001b[0m\u001b[0m\n\u001b[0m\u001b[0;32m      4\u001b[0m \u001b[1;33m\u001b[0m\u001b[0m\n\u001b[0;32m      5\u001b[0m \u001b[1;31m#-----------------------------------------------------------------------------\u001b[0m\u001b[1;33m\u001b[0m\u001b[1;33m\u001b[0m\u001b[0m\n",
      "\u001b[1;31mNameError\u001b[0m: name 'train_data' is not defined"
     ]
    }
   ],
   "source": [
    "# to visualize the images in the traing data denerator \n",
    "\n",
    "t_img , label = train_data.next()\n",
    "\n",
    "#-----------------------------------------------------------------------------\n",
    "# function when called will prot the images \n",
    "def plotImages(img_arr, label):\n",
    "  \"\"\"\n",
    "  input  :- images array \n",
    "  output :- plots the images \n",
    "  \"\"\"\n",
    "  count = 0\n",
    "  for im, l in zip(img_arr,label) :\n",
    "    plt.imshow(im)\n",
    "    plt.title(im.shape)\n",
    "    plt.axis = False\n",
    "    plt.show()\n",
    "    \n",
    "    count += 1\n",
    "    if count == 10:\n",
    "      break\n",
    "\n",
    "#-----------------------------------------------------------------------------\n",
    "# function call to plot the images \n",
    "plotImages(t_img, label)"
   ]
  },
  {
   "cell_type": "markdown",
   "metadata": {
    "id": "IhuAjX8KfPa-"
   },
   "source": [
    "# having early stopping and model check point"
   ]
  },
  {
   "cell_type": "code",
   "execution_count": 9,
   "metadata": {
    "id": "_XtYmjt5dZ2c"
   },
   "outputs": [],
   "source": [
    "## having early stopping and model check point \n",
    "\n",
    "from keras.callbacks import ModelCheckpoint, EarlyStopping\n",
    "\n",
    "# early stopping\n",
    "es = EarlyStopping(monitor='val_accuracy', min_delta= 0.01 , patience= 5, verbose= 1, mode='auto')\n",
    "\n",
    "# model check point\n",
    "mc = ModelCheckpoint(filepath=\"best_model.h5\", monitor= 'val_accuracy', verbose= 1, save_best_only= True, mode = 'auto')\n",
    "\n",
    "# puting call back in a list \n",
    "call_back = [es, mc]"
   ]
  },
  {
   "cell_type": "code",
   "execution_count": 10,
   "metadata": {
    "colab": {
     "base_uri": "https://localhost:8080/"
    },
    "id": "4GxQ9-qSfT3K",
    "outputId": "05e315e5-8f3b-481f-b024-5cbfa5f624ef"
   },
   "outputs": [
    {
     "name": "stderr",
     "output_type": "stream",
     "text": [
      "/usr/local/lib/python3.7/dist-packages/keras/engine/training.py:1972: UserWarning: `Model.fit_generator` is deprecated and will be removed in a future version. Please use `Model.fit`, which supports generators.\n",
      "  warnings.warn('`Model.fit_generator` is deprecated and '\n"
     ]
    },
    {
     "name": "stdout",
     "output_type": "stream",
     "text": [
      "Epoch 1/30\n",
      "10/10 [==============================] - 35s 539ms/step - loss: 21.7852 - accuracy: 0.2188 - val_loss: 17.8810 - val_accuracy: 0.2305\n",
      "\n",
      "Epoch 00001: val_accuracy improved from -inf to 0.23047, saving model to best_model.h5\n",
      "Epoch 2/30\n",
      "10/10 [==============================] - 5s 475ms/step - loss: 13.8177 - accuracy: 0.2375 - val_loss: 11.4638 - val_accuracy: 0.2422\n",
      "\n",
      "Epoch 00002: val_accuracy improved from 0.23047 to 0.24219, saving model to best_model.h5\n",
      "Epoch 3/30\n",
      "10/10 [==============================] - 5s 468ms/step - loss: 8.5972 - accuracy: 0.3594 - val_loss: 6.5346 - val_accuracy: 0.4297\n",
      "\n",
      "Epoch 00003: val_accuracy improved from 0.24219 to 0.42969, saving model to best_model.h5\n",
      "Epoch 4/30\n",
      "10/10 [==============================] - 5s 468ms/step - loss: 6.4590 - accuracy: 0.4094 - val_loss: 5.6742 - val_accuracy: 0.4570\n",
      "\n",
      "Epoch 00004: val_accuracy improved from 0.42969 to 0.45703, saving model to best_model.h5\n",
      "Epoch 5/30\n",
      "10/10 [==============================] - 5s 463ms/step - loss: 6.8564 - accuracy: 0.3750 - val_loss: 6.8206 - val_accuracy: 0.3555\n",
      "\n",
      "Epoch 00005: val_accuracy did not improve from 0.45703\n",
      "Epoch 6/30\n",
      "10/10 [==============================] - 5s 467ms/step - loss: 6.0835 - accuracy: 0.3688 - val_loss: 6.2523 - val_accuracy: 0.4414\n",
      "\n",
      "Epoch 00006: val_accuracy did not improve from 0.45703\n",
      "Epoch 7/30\n",
      "10/10 [==============================] - 5s 465ms/step - loss: 5.0290 - accuracy: 0.4187 - val_loss: 4.6664 - val_accuracy: 0.4883\n",
      "\n",
      "Epoch 00007: val_accuracy improved from 0.45703 to 0.48828, saving model to best_model.h5\n",
      "Epoch 8/30\n",
      "10/10 [==============================] - 5s 464ms/step - loss: 4.8455 - accuracy: 0.4000 - val_loss: 4.4185 - val_accuracy: 0.4922\n",
      "\n",
      "Epoch 00008: val_accuracy improved from 0.48828 to 0.49219, saving model to best_model.h5\n",
      "Epoch 9/30\n",
      "10/10 [==============================] - 5s 462ms/step - loss: 4.7423 - accuracy: 0.4156 - val_loss: 6.4577 - val_accuracy: 0.3789\n",
      "\n",
      "Epoch 00009: val_accuracy did not improve from 0.49219\n",
      "Epoch 10/30\n",
      "10/10 [==============================] - 5s 470ms/step - loss: 5.6904 - accuracy: 0.4000 - val_loss: 5.4667 - val_accuracy: 0.4336\n",
      "\n",
      "Epoch 00010: val_accuracy did not improve from 0.49219\n",
      "Epoch 11/30\n",
      "10/10 [==============================] - 5s 460ms/step - loss: 6.2814 - accuracy: 0.4313 - val_loss: 6.2598 - val_accuracy: 0.4023\n",
      "\n",
      "Epoch 00011: val_accuracy did not improve from 0.49219\n",
      "Epoch 12/30\n",
      "10/10 [==============================] - 5s 458ms/step - loss: 6.7551 - accuracy: 0.4125 - val_loss: 6.2386 - val_accuracy: 0.3828\n",
      "\n",
      "Epoch 00012: val_accuracy did not improve from 0.49219\n",
      "Epoch 00012: early stopping\n"
     ]
    }
   ],
   "source": [
    "hist = model.fit_generator(train_data, \n",
    "                           steps_per_epoch= 10, \n",
    "                           epochs= 30, \n",
    "                           validation_data= val_data, \n",
    "                           validation_steps= 8, \n",
    "                           callbacks=[es,mc])"
   ]
  },
  {
   "cell_type": "code",
   "execution_count": 11,
   "metadata": {
    "id": "V6YSss56fWrD"
   },
   "outputs": [],
   "source": [
    "\n",
    "# Loading the best fit model \n",
    "from keras.models import load_model\n",
    "model = load_model(\"/content/best_model.h5\")"
   ]
  },
  {
   "cell_type": "code",
   "execution_count": 12,
   "metadata": {
    "colab": {
     "base_uri": "https://localhost:8080/"
    },
    "id": "Rd0p7xDzfe2V",
    "outputId": "852aa271-31b9-4d8d-8ef8-9de03085381a"
   },
   "outputs": [
    {
     "data": {
      "text/plain": [
       "dict_keys(['loss', 'accuracy', 'val_loss', 'val_accuracy'])"
      ]
     },
     "execution_count": 12,
     "metadata": {},
     "output_type": "execute_result"
    }
   ],
   "source": [
    "h =  hist.history\n",
    "h.keys()"
   ]
  },
  {
   "cell_type": "code",
   "execution_count": 13,
   "metadata": {
    "colab": {
     "base_uri": "https://localhost:8080/",
     "height": 281
    },
    "id": "2Qm3Qz11fhMy",
    "outputId": "3a3cdbdd-167c-4368-c675-8b8290d607a9"
   },
   "outputs": [
    {
     "data": {
      "image/png": "[encoded data removed]",
      "text/plain": [
       "<Figure size 432x288 with 1 Axes>"
      ]
     },
     "metadata": {
      "needs_background": "light"
     },
     "output_type": "display_data"
    }
   ],
   "source": [
    "plt.plot(h['accuracy'])\n",
    "plt.plot(h['val_accuracy'] , c = \"red\")\n",
    "plt.title(\"acc vs v-acc\")\n",
    "plt.show()"
   ]
  },
  {
   "cell_type": "code",
   "execution_count": 14,
   "metadata": {
    "colab": {
     "base_uri": "https://localhost:8080/",
     "height": 281
    },
    "id": "f2Z9fjdZfjcU",
    "outputId": "1a92fc5a-71a1-4c89-8fef-e92522f3fbcf"
   },
   "outputs": [
    {
     "data": {
      "image/png": "[encoded data removed]",
      "text/plain": [
       "<Figure size 432x288 with 1 Axes>"
      ]
     },
     "metadata": {
      "needs_background": "light"
     },
     "output_type": "display_data"
    }
   ],
   "source": [
    "plt.plot(h['loss'])\n",
    "plt.plot(h['val_loss'] , c = \"red\")\n",
    "plt.title(\"loss vs v-loss\")\n",
    "plt.show()"
   ]
  },
  {
   "cell_type": "code",
   "execution_count": 15,
   "metadata": {
    "id": "2mj02ddxjTyr"
   },
   "outputs": [],
   "source": [
    "# just to map o/p values \n",
    "op = dict(zip( train_data.class_indices.values(), train_data.class_indices.keys()))"
   ]
  },
  {
   "cell_type": "code",
   "execution_count": 16,
   "metadata": {
    "colab": {
     "base_uri": "https://localhost:8080/",
     "height": 298
    },
    "id": "8xRgvdZZfltN",
    "outputId": "20dde6d1-1350-4cd7-b671-cd711beeafdc"
   },
   "outputs": [
    {
     "name": "stdout",
     "output_type": "stream",
     "text": [
      " the image is of neutral\n"
     ]
    },
    {
     "data": {
      "image/png": "[encoded data removed]",
      "text/plain": [
       "<Figure size 432x288 with 1 Axes>"
      ]
     },
     "metadata": {
      "needs_background": "light"
     },
     "output_type": "display_data"
    }
   ],
   "source": [
    "# path for the image to see if it predics correct class\n",
    "\n",
    "path = \"/content/test/angry/PrivateTest_1054527.jpg\"\n",
    "img = load_img(path, target_size=(224,224) )\n",
    "\n",
    "i = img_to_array(img)/255\n",
    "input_arr = np.array([i])\n",
    "input_arr.shape\n",
    "\n",
    "pred = np.argmax(model.predict(input_arr))\n",
    "\n",
    "print(f\" the image is of {op[pred]}\")\n",
    "\n",
    "# to display the image  \n",
    "plt.imshow(input_arr[0])\n",
    "plt.title(\"input image\")\n",
    "plt.show()"
   ]
  },
  {
   "cell_type": "code",
   "execution_count": null,
   "metadata": {
    "id": "woVkimceN8Jr"
   },
   "outputs": [],
   "source": []
  }
 ],
 "metadata": {
  "accelerator": "GPU",
  "colab": {
   "name": "Emotion_Detection.ipynb",
   "provenance": []
  },
  "kernelspec": {
   "display_name": "Python 3 (ipykernel)",
   "language": "python",
   "name": "python3"
  },
  "language_info": {
   "codemirror_mode": {
    "name": "ipython",
    "version": 3
   },
   "file_extension": ".py",
   "mimetype": "text/x-python",
   "name": "python",
   "nbconvert_exporter": "python",
   "pygments_lexer": "ipython3",
   "version": "3.9.13"
  }
 },
 "nbformat": 4,
 "nbformat_minor": 1
}
